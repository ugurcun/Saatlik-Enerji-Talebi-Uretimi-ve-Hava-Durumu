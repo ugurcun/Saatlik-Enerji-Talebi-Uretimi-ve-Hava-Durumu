{
  "cells": [
    {
      "cell_type": "markdown",
      "metadata": {
        "id": "view-in-github",
        "colab_type": "text"
      },
      "source": [
        "<a href=\"https://colab.research.google.com/github/ugurcun/Saatlik-Enerji-Talebi-Uretimi-ve-Hava-Durumu/blob/main/Saatlik_Enerji_Talebi_%C3%9Cretimi_ve_Hava_Durumu.ipynb\" target=\"_parent\"><img src=\"https://colab.research.google.com/assets/colab-badge.svg\" alt=\"Open In Colab\"/></a>"
      ]
    },
    {
      "cell_type": "code",
      "source": [
        "import pandas as pd\n",
        "from sklearn.model_selection import train_test_split\n",
        "from sklearn.ensemble import RandomForestRegressor\n",
        "from sklearn.metrics import mean_squared_error\n",
        "import numpy as np\n",
        "\n",
        "# 1. Veriyi yükleme\n",
        "energy_file = \"energy_dataset.csv\"\n",
        "weather_file = \"weather_features.csv\"\n",
        "energy_df = pd.read_csv(energy_file)\n",
        "weather_df = pd.read_csv(weather_file)\n",
        "\n",
        "# Çok fazla eksik veri içeren sütunları kaldırma\n",
        "energy_df.drop(columns=['generation hydro pumped storage aggregated', 'forecast wind offshore eday ahead'], inplace=True)\n",
        "\n",
        "# Eksik verileri sütun medyanı ile doldurma\n",
        "numeric_columns = energy_df.select_dtypes(include=np.number).columns\n",
        "energy_df[numeric_columns] = energy_df[numeric_columns].fillna(energy_df[numeric_columns].median())\n",
        "\n",
        "# 2. Aykırı değerleri IQR yöntemine göre temizleme\n",
        "# Sadece sayısal sütunları seçin\n",
        "numeric_energy_df = energy_df.select_dtypes(include=np.number)\n",
        "\n",
        "Q1 = numeric_energy_df.quantile(0.25)\n",
        "Q3 = numeric_energy_df.quantile(0.75)\n",
        "IQR = Q3 - Q1\n",
        "\n",
        "# Alt ve üst sınırları belirleme\n",
        "lower_bound = Q1 - 1.5 * IQR\n",
        "upper_bound = Q3 + 1.5 * IQR\n",
        "\n",
        "# Sınırların dışında kalan değerleri alt veya üst sınıra çekme\n",
        "# Sadece sayısal sütunları güncelleyin\n",
        "energy_df[numeric_columns] = numeric_energy_df.clip(lower=lower_bound, upper=upper_bound, axis=1)\n",
        "\n",
        "\n",
        "# 3. Hata metriğini belirleme (RMSE kullanılıyor)\n",
        "def rmse(y_true, y_pred):\n",
        "    return np.sqrt(mean_squared_error(y_true, y_pred))\n",
        "\n",
        "# 4. Veriyi Train-Validation-Test olarak bölme\n",
        "y = energy_df['total load actual']  # Örnek hedef değişken\n",
        "X = energy_df.drop(columns=['total load actual', 'time'])  # Zaman sütunu çıkarılıyor\n",
        "\n",
        "X_train, X_temp, y_train, y_temp = train_test_split(X, y, test_size=0.3, random_state=42)\n",
        "X_val, X_test, y_val, y_test = train_test_split(X_temp, y_temp, test_size=0.5, random_state=42)\n",
        "\n",
        "# 5. Farklı modelleri deneyerek en iyisini seçme\n",
        "model = RandomForestRegressor(n_estimators=100, random_state=42)\n",
        "model.fit(X_train, y_train)\n",
        "y_pred = model.predict(X_val)\n",
        "error = rmse(y_val, y_pred)\n",
        "\n",
        "print(f\"Validation RMSE: {error}\")\n",
        "\n",
        "# Modeli test setinde değerlendirme\n",
        "y_test_pred = model.predict(X_test)\n",
        "test_error = rmse(y_test, y_test_pred)\n",
        "print(f\"Test RMSE: {test_error}\")\n",
        "\n",
        "# Temizlenmiş veriyi kaydetme\n",
        "energy_df.to_csv(\"cleaned_energy_dataset.csv\", index=False)\n",
        "print(\"Tüm veri işleme adımları tamamlandı ve model değerlendirildi.\")"
      ],
      "metadata": {
        "colab": {
          "base_uri": "https://localhost:8080/"
        },
        "id": "AqmERKm31qgE",
        "outputId": "155665f2-80b9-44ce-fee6-fb172ca84455"
      },
      "execution_count": 22,
      "outputs": [
        {
          "output_type": "stream",
          "name": "stdout",
          "text": [
            "Validation RMSE: 464.8710565269706\n",
            "Test RMSE: 420.44530902707277\n",
            "Tüm veri işleme adımları tamamlandı ve model değerlendirildi.\n"
          ]
        }
      ]
    }
  ],
  "metadata": {
    "kernelspec": {
      "display_name": "Python 3",
      "language": "python",
      "name": "python3"
    },
    "language_info": {
      "codemirror_mode": {
        "name": "ipython",
        "version": 3
      },
      "file_extension": ".py",
      "mimetype": "text/x-python",
      "name": "python",
      "nbconvert_exporter": "python",
      "pygments_lexer": "ipython3",
      "version": "3.8.5"
    },
    "colab": {
      "provenance": [],
      "include_colab_link": true
    }
  },
  "nbformat": 4,
  "nbformat_minor": 0
}